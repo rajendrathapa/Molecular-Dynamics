{
 "cells": [
  {
   "cell_type": "markdown",
   "id": "009c78c5",
   "metadata": {},
   "source": [
    "__This code creates a random distribution of atoms inside a box subject to the PBC__\n"
   ]
  },
  {
   "cell_type": "code",
   "execution_count": 5,
   "id": "3f51e916",
   "metadata": {},
   "outputs": [],
   "source": [
    "import periodictable\n",
    "\n",
    "def get_atomic_masses(atom_labels):\n",
    "    '''Input: list of atomic symbols of different species of atoms\n",
    "    Outputs: atomic masses of the atom types\n",
    "    '''\n",
    "    atomic_masses = []\n",
    "    unsupported_labels = []\n",
    "    \n",
    "    for label in atom_labels:\n",
    "        try:\n",
    "            element = getattr(periodictable, label)\n",
    "            atomic_mass = element.mass * 1.66053904020e-24 # Atomic mass in gm\n",
    "            atomic_masses.append(atomic_mass)\n",
    "        except AttributeError:\n",
    "            unsupported_labels.append(label)\n",
    "    if unsupported_labels:\n",
    "        print(f\"Unsupported atomic labels: {', '.join(unsupported_labels)}\")\n",
    "    \n",
    "    return atomic_masses\n",
    "\n",
    "# List of atomic labels for our system\n",
    "atomic_labels = ['Li', 'Nb', 'O']\n",
    "\n",
    "# Get the corresponding atomic masses\n",
    "atomic_masses = get_atomic_masses(atomic_labels)"
   ]
  },
  {
   "cell_type": "code",
   "execution_count": 6,
   "id": "3cb648cb",
   "metadata": {},
   "outputs": [
    {
     "name": "stdout",
     "output_type": "stream",
     "text": [
      "The box size is 65.39145086689086 Angstorm.\n"
     ]
    }
   ],
   "source": [
    "import numpy as np\n",
    "# Create a list of number of atoms of each species\n",
    "# Order must be same as in atomic_labels\n",
    "\n",
    "# N_sp = [40000, 40000, 120000]\n",
    "N_sp = [5000, 5000, 15000]\n",
    "rho = 4.39                      # density of the material in gm/cc. This is what you should know. \n",
    "\n",
    "total_mass = sum(x * y for x, y in zip(atomic_masses, N_sp))\n",
    "vol_in_A3 = (total_mass/rho)*1e24\n",
    "\n",
    "box = np.cbrt(vol_in_A3)\n",
    "print(f\"The box size is {box} Angstorm.\")"
   ]
  },
  {
   "cell_type": "code",
   "execution_count": 7,
   "id": "2d1a2ecd",
   "metadata": {},
   "outputs": [],
   "source": [
    "def periodic_distance(atom, nbd, box):\n",
    "    '''Inputs:\n",
    "        atom = coordinate of a single reference atom\n",
    "        nbd = array of coordinates of multiple atoms\n",
    "        box = length of the box\n",
    "       Outputs:\n",
    "        dis = distance between atom and nbd\n",
    "        len(dis) == len(nbd)\n",
    "    '''\n",
    "    delta = np.abs(atom-nbd)\n",
    "    delta = np.where(delta> 0.5*box, delta-box, delta)\n",
    "    dis = np.sqrt((delta**2).sum(axis=-1))\n",
    "    return dis"
   ]
  },
  {
   "cell_type": "code",
   "execution_count": 9,
   "id": "54d3a0a2",
   "metadata": {},
   "outputs": [
    {
     "name": "stdout",
     "output_type": "stream",
     "text": [
      "Now creating the random coordinates.................\n",
      "Now placing Li!!!\n"
     ]
    },
    {
     "name": "stderr",
     "output_type": "stream",
     "text": [
      "Processing: 100%|█████████████████████████████████████████████| 5000/5000 [00:04<00:00, 1191.55it/s]\n"
     ]
    },
    {
     "name": "stdout",
     "output_type": "stream",
     "text": [
      "Now placing Nb!!!\n"
     ]
    },
    {
     "name": "stderr",
     "output_type": "stream",
     "text": [
      "Processing: 100%|████████████████████████████████████████████| 10000/10000 [00:44<00:00, 226.82it/s]\n"
     ]
    },
    {
     "name": "stdout",
     "output_type": "stream",
     "text": [
      "Now placing O!!!\n"
     ]
    },
    {
     "name": "stderr",
     "output_type": "stream",
     "text": [
      "Processing: 100%|█████████████████████████████████████████████| 25000/25000 [12:10<00:00, 34.22it/s]\n"
     ]
    }
   ],
   "source": [
    "from tqdm import tqdm\n",
    "import random as ran\n",
    "import numpy as np\n",
    "\n",
    "\n",
    "cut_off = [1.8, 1.5, 1.3 ]                #minimum approach distance\n",
    "cum_N = [sum(N_sp[:i + 1]) for i in range(len(N_sp))]  # Cumulative N_Sp \n",
    "rx,ry,rz = [],[],[]\n",
    "print (\"Now creating the random coordinates.................\")\n",
    "\n",
    "for ind in range(len(atomic_labels)):\n",
    "    print (f\"Now placing {atomic_labels[ind]}!!!\")\n",
    "    for count in tqdm(range(cum_N[ind]), desc=\"Processing\", ncols=100):\n",
    "        x,y,z = box*ran.random(), box*ran.random(), box*ran.random()\n",
    "        checker = \"Failed\"\n",
    "        while checker != \"Passed\":\n",
    "            dist = periodic_distance([x,y,z], np.array([rx,ry,rz]).T, box)\n",
    "            if all(value > cut_off[ind] for value in dist):\n",
    "                checker = \"Passed\"\n",
    "            else:\n",
    "                x,y,z = box*ran.random(), box*ran.random(), box*ran.random()\n",
    "        rx.append(x)\n",
    "        ry.append(y)\n",
    "        rz.append(z)\n"
   ]
  },
  {
   "cell_type": "markdown",
   "id": "32bd9892",
   "metadata": {},
   "source": [
    "__Great!!!__\n",
    "We now have the coordinates. Let us save it in some suitable format for running simulations. \n",
    "For now we use the VASP format for this coordinates we have generated."
   ]
  },
  {
   "cell_type": "code",
   "execution_count": 10,
   "id": "8cebed12",
   "metadata": {},
   "outputs": [],
   "source": [
    "out1 = open(\"25k_random.POSCAR\", 'w')\n",
    "\n",
    "print (\"comment line\",file=out1)\n",
    "print (\"%16.10f\"%(1.0),file=out1)\n",
    "print (\"%23.16f\"%(box),\"%22.16f\"%(0.0),\"%22.16f\"%(0.0),file=out1)\n",
    "print (\"%23.16f\"%(0.0),\"%22.16f\"%(box),\"%22.16f\"%(0.0),file=out1)\n",
    "print (\"%23.16f\"%(0.0),\"%22.16f\"%(0.0),\"%22.16f\"%(box),file=out1)\n",
    "print ('\\t'.join(atomic_labels),file=out1)\n",
    "print ('\\t'.join(map(str, N_sp)),file=out1)\n",
    "print (\"Cartesian\",file=out1)\n",
    "\n",
    "for ct in range(len(rx)):\n",
    "        print (\"%20.16f\"%(rx[ct]),\"%20.16f\"%(ry[ct]),\"%20.16f\"%(rz[ct]),file=out1)\n",
    "        \n",
    "out1.close()\n"
   ]
  },
  {
   "cell_type": "code",
   "execution_count": null,
   "id": "0320b7fa",
   "metadata": {},
   "outputs": [],
   "source": []
  }
 ],
 "metadata": {
  "kernelspec": {
   "display_name": "Python 3 (ipykernel)",
   "language": "python",
   "name": "python3"
  },
  "language_info": {
   "codemirror_mode": {
    "name": "ipython",
    "version": 3
   },
   "file_extension": ".py",
   "mimetype": "text/x-python",
   "name": "python",
   "nbconvert_exporter": "python",
   "pygments_lexer": "ipython3",
   "version": "3.10.9"
  }
 },
 "nbformat": 4,
 "nbformat_minor": 5
}
